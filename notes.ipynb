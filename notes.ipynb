{
 "cells": [
  {
   "cell_type": "code",
   "execution_count": 319,
   "metadata": {
    "collapsed": false
   },
   "outputs": [],
   "source": [
    "%run -n main.py\n",
    "%matplotlib inline"
   ]
  },
  {
   "cell_type": "code",
   "execution_count": 311,
   "metadata": {
    "collapsed": false
   },
   "outputs": [],
   "source": [
    "data = read_xls_data()"
   ]
  },
  {
   "cell_type": "code",
   "execution_count": 312,
   "metadata": {
    "collapsed": false
   },
   "outputs": [
    {
     "data": {
      "text/html": [
       "<div>\n",
       "<table border=\"1\" class=\"dataframe\">\n",
       "  <thead>\n",
       "    <tr style=\"text-align: right;\">\n",
       "      <th></th>\n",
       "      <th>name</th>\n",
       "      <th>title</th>\n",
       "      <th>dosage</th>\n",
       "      <th>firm</th>\n",
       "      <th>amount</th>\n",
       "      <th>price</th>\n",
       "      <th>price2</th>\n",
       "      <th>id</th>\n",
       "      <th>code2</th>\n",
       "      <th>date</th>\n",
       "      <th>code1</th>\n",
       "    </tr>\n",
       "  </thead>\n",
       "  <tbody>\n",
       "    <tr>\n",
       "      <th>0</th>\n",
       "      <td>None</td>\n",
       "      <td>Кагоцел</td>\n",
       "      <td>таблетки 12 мг, 10 шт. - упаковки ячейковые ко...</td>\n",
       "      <td>ООО \"НИАРМЕДИК ПЛЮС\" - Россия</td>\n",
       "      <td>10</td>\n",
       "      <td>164.98</td>\n",
       "      <td>NaN</td>\n",
       "      <td>Р N002027/01</td>\n",
       "      <td>4.605340e+12</td>\n",
       "      <td>2015-10-07</td>\n",
       "      <td>1808-Пр/10</td>\n",
       "    </tr>\n",
       "    <tr>\n",
       "      <th>1</th>\n",
       "      <td>None</td>\n",
       "      <td>Пирфотех 99mТc</td>\n",
       "      <td>лиофилизат для приготовления раствора для внут...</td>\n",
       "      <td>ООО \"Диамед\" - Россия</td>\n",
       "      <td>5</td>\n",
       "      <td>1435.32</td>\n",
       "      <td>NaN</td>\n",
       "      <td>Р N000494/01</td>\n",
       "      <td>4.606223e+12</td>\n",
       "      <td>2015-10-07</td>\n",
       "      <td>1620-Пр/10</td>\n",
       "    </tr>\n",
       "    <tr>\n",
       "      <th>2</th>\n",
       "      <td>None</td>\n",
       "      <td>Технефит 99mTc</td>\n",
       "      <td>лиофилизат для приготовления раствора для внут...</td>\n",
       "      <td>ООО \"Диамед\" - Россия</td>\n",
       "      <td>5</td>\n",
       "      <td>1617.84</td>\n",
       "      <td>NaN</td>\n",
       "      <td>ЛС-002365</td>\n",
       "      <td>4.606223e+12</td>\n",
       "      <td>2015-10-07</td>\n",
       "      <td>1620-Пр/10</td>\n",
       "    </tr>\n",
       "    <tr>\n",
       "      <th>3</th>\n",
       "      <td>None</td>\n",
       "      <td>Технефор 99mTc</td>\n",
       "      <td>лиофилизат для приготовления раствора для внут...</td>\n",
       "      <td>ООО \"Диамед\" - Россия</td>\n",
       "      <td>5</td>\n",
       "      <td>1662.12</td>\n",
       "      <td>NaN</td>\n",
       "      <td>ЛС-002366</td>\n",
       "      <td>4.606223e+12</td>\n",
       "      <td>2015-10-07</td>\n",
       "      <td>1620-Пр/10</td>\n",
       "    </tr>\n",
       "    <tr>\n",
       "      <th>4</th>\n",
       "      <td>Абакавир</td>\n",
       "      <td>Зиаген</td>\n",
       "      <td>раствор для приема внутрь 20 мг/мл, 240 мл - ф...</td>\n",
       "      <td>ГлаксоСмитКляйн Инк - Канада</td>\n",
       "      <td>1</td>\n",
       "      <td>2440.97</td>\n",
       "      <td>NaN</td>\n",
       "      <td>П N011612/02</td>\n",
       "      <td>4.607008e+12</td>\n",
       "      <td>2015-10-07</td>\n",
       "      <td>5344-Пр/10</td>\n",
       "    </tr>\n",
       "  </tbody>\n",
       "</table>\n",
       "</div>"
      ],
      "text/plain": [
       "       name           title  \\\n",
       "0      None         Кагоцел   \n",
       "1      None  Пирфотех 99mТc   \n",
       "2      None  Технефит 99mTc   \n",
       "3      None  Технефор 99mTc   \n",
       "4  Абакавир          Зиаген   \n",
       "\n",
       "                                              dosage  \\\n",
       "0  таблетки 12 мг, 10 шт. - упаковки ячейковые ко...   \n",
       "1  лиофилизат для приготовления раствора для внут...   \n",
       "2  лиофилизат для приготовления раствора для внут...   \n",
       "3  лиофилизат для приготовления раствора для внут...   \n",
       "4  раствор для приема внутрь 20 мг/мл, 240 мл - ф...   \n",
       "\n",
       "                            firm  amount    price price2            id  \\\n",
       "0  ООО \"НИАРМЕДИК ПЛЮС\" - Россия      10   164.98    NaN  Р N002027/01   \n",
       "1          ООО \"Диамед\" - Россия       5  1435.32    NaN  Р N000494/01   \n",
       "2          ООО \"Диамед\" - Россия       5  1617.84    NaN     ЛС-002365   \n",
       "3          ООО \"Диамед\" - Россия       5  1662.12    NaN     ЛС-002366   \n",
       "4   ГлаксоСмитКляйн Инк - Канада       1  2440.97    NaN  П N011612/02   \n",
       "\n",
       "          code2       date       code1  \n",
       "0  4.605340e+12 2015-10-07  1808-Пр/10  \n",
       "1  4.606223e+12 2015-10-07  1620-Пр/10  \n",
       "2  4.606223e+12 2015-10-07  1620-Пр/10  \n",
       "3  4.606223e+12 2015-10-07  1620-Пр/10  \n",
       "4  4.607008e+12 2015-10-07  5344-Пр/10  "
      ]
     },
     "execution_count": 312,
     "metadata": {},
     "output_type": "execute_result"
    }
   ],
   "source": [
    "data.head()"
   ]
  },
  {
   "cell_type": "code",
   "execution_count": 314,
   "metadata": {
    "collapsed": false
   },
   "outputs": [],
   "source": [
    "max_prices = get_max_prices(data)"
   ]
  },
  {
   "cell_type": "code",
   "execution_count": 320,
   "metadata": {
    "collapsed": false
   },
   "outputs": [],
   "source": [
    "serps = load_serps()"
   ]
  },
  {
   "cell_type": "code",
   "execution_count": 321,
   "metadata": {
    "collapsed": false
   },
   "outputs": [],
   "source": [
    "not_found, no_forms, join = join_forms(serps, max_prices)"
   ]
  },
  {
   "cell_type": "markdown",
   "metadata": {},
   "source": [
    "Было скачано 3181 из 3156 (что-то со времен удаляется из таблички). ~200 не нашлось, ~800 не имеют дозы, предполагаем, что для них нет цен. ~2100 лекаств в суммы имеют ~4000 дозировок. Не для всех дозировок удалось найти максимальные цены. Примерно 25% не нашлось. Из 20 000 строчек из исходной таблицы в объединении участвуют ~8000, не знаю, плохо это или нет. Возможно в исходной таблицы много мелкого всего."
   ]
  },
  {
   "cell_type": "code",
   "execution_count": 322,
   "metadata": {
    "collapsed": false,
    "scrolled": true
   },
   "outputs": [
    {
     "name": "stdout",
     "output_type": "stream",
     "text": [
      "Total: 3181\n",
      "Not found: 179\n",
      "No forms: 822\n",
      "In join: 2180\n",
      "\n",
      "Forms: 3999\n",
      "Matches: 2872\n",
      "Data coverage: 8198\n"
     ]
    }
   ],
   "source": [
    "no_matches = join_stats(serps, max_prices, not_found, no_forms, join)"
   ]
  },
  {
   "cell_type": "markdown",
   "metadata": {},
   "source": [
    "Посмотрим что из себя представляют эти 25%. Видно, что часть действительно не получится объединить. А часть нужно кропотливо отлаживать"
   ]
  },
  {
   "cell_type": "code",
   "execution_count": 324,
   "metadata": {
    "collapsed": false,
    "scrolled": false
   },
   "outputs": [],
   "source": [
    "# show_no_matches(no_matches)"
   ]
  },
  {
   "cell_type": "markdown",
   "metadata": {},
   "source": [
    "Проверим вручную что попадает в объединение. Формально всё вроде бы норм. Действительно ли 100мг/20мл равно 5мг/мл? Внутри встречается сильный разброс в максимальных ценах. Нужно будет это отображать"
   ]
  },
  {
   "cell_type": "code",
   "execution_count": 131,
   "metadata": {
    "collapsed": false,
    "scrolled": false
   },
   "outputs": [],
   "source": [
    "# show_join(join)"
   ]
  },
  {
   "cell_type": "code",
   "execution_count": 333,
   "metadata": {
    "collapsed": false
   },
   "outputs": [],
   "source": [
    "prices = load_prices()"
   ]
  },
  {
   "cell_type": "code",
   "execution_count": 334,
   "metadata": {
    "collapsed": false
   },
   "outputs": [],
   "source": [
    "stats = join_prices(join, prices)"
   ]
  },
  {
   "cell_type": "markdown",
   "metadata": {},
   "source": [
    "Всего ~4000 дозировки как и раньше. 75% имеют известные максимальные цены. Совсем для немногих не удалось найти цены совсем. Для примерно 15% объединилась только часть цен."
   ]
  },
  {
   "cell_type": "code",
   "execution_count": 335,
   "metadata": {
    "collapsed": false
   },
   "outputs": [
    {
     "name": "stdout",
     "output_type": "stream",
     "text": [
      "Titles: 2180\n",
      "Forms: 3999\n",
      "Joined forms: 2872\n",
      "Clean join: 2376\n",
      "No join 42\n",
      "Partial join 441\n"
     ]
    }
   ],
   "source": [
    "no_join, partial_join = stats_stats(stats)"
   ]
  },
  {
   "cell_type": "markdown",
   "metadata": {},
   "source": [
    "Среди совсем необъединившихся есть корректные. Правда иногда нет максимальной цены с данным amount. Иногда у максимальной цены amount none, тоже забиваем"
   ]
  },
  {
   "cell_type": "code",
   "execution_count": 13,
   "metadata": {
    "collapsed": false,
    "scrolled": false
   },
   "outputs": [],
   "source": [
    "# show_no_join(no_join)"
   ]
  },
  {
   "cell_type": "markdown",
   "metadata": {},
   "source": [
    "Среди частично объединённых тоже есть корректные. Часто требует долгая крапотливая настройка."
   ]
  },
  {
   "cell_type": "code",
   "execution_count": 14,
   "metadata": {
    "collapsed": false,
    "scrolled": false
   },
   "outputs": [],
   "source": [
    "# show_partial_join(partial_join)"
   ]
  },
  {
   "cell_type": "markdown",
   "metadata": {},
   "source": [
    "Всё выглядит нормально. Похоже максимальные цены не максимальные. Нужно ещё добавить надбавки. Иногда бывается что у Спутника в одну дозировку попадают цены с другой."
   ]
  },
  {
   "cell_type": "code",
   "execution_count": 15,
   "metadata": {
    "collapsed": true
   },
   "outputs": [],
   "source": [
    "# show_stats(stats)"
   ]
  },
  {
   "cell_type": "code",
   "execution_count": 336,
   "metadata": {
    "collapsed": false
   },
   "outputs": [],
   "source": [
    "popular = get_titles_popularity(stats, top=1000)"
   ]
  },
  {
   "cell_type": "code",
   "execution_count": 145,
   "metadata": {
    "collapsed": false,
    "scrolled": true
   },
   "outputs": [],
   "source": [
    "# shows_stats(filter_stats(stats, popular))"
   ]
  },
  {
   "cell_type": "code",
   "execution_count": 337,
   "metadata": {
    "collapsed": false
   },
   "outputs": [],
   "source": [
    "dump_stats(filter_stats(stats, popular))"
   ]
  },
  {
   "cell_type": "markdown",
   "metadata": {},
   "source": [
    "# Корректировка в пограничных зонах"
   ]
  },
  {
   "cell_type": "code",
   "execution_count": 207,
   "metadata": {
    "collapsed": false
   },
   "outputs": [
    {
     "name": "stdout",
     "output_type": "stream",
     "text": [
      "45.45: 75.9924, 45.46: 71.50858\n",
      "454.54: 714.99142, 454.55: 625.00625\n"
     ]
    },
    {
     "data": {
      "image/png": "[encoded data removed]",
      "text/plain": [
       "<matplotlib.figure.Figure at 0x11b93ed10>"
      ]
     },
     "metadata": {},
     "output_type": "display_data"
    }
   ],
   "source": [
    "plot_steps()"
   ]
  },
  {
   "cell_type": "code",
   "execution_count": 208,
   "metadata": {
    "collapsed": false
   },
   "outputs": [
    {
     "name": "stdout",
     "output_type": "stream",
     "text": [
      "454.54: 714.99142, 454.55: 714.99142\n"
     ]
    },
    {
     "data": {
      "image/png": "[encoded data removed]",
      "text/plain": [
       "<matplotlib.figure.Figure at 0x118faf7d0>"
      ]
     },
     "metadata": {},
     "output_type": "display_data"
    }
   ],
   "source": [
    "plot_steps(smooth=True)"
   ]
  },
  {
   "cell_type": "code",
   "execution_count": 209,
   "metadata": {
    "collapsed": true
   },
   "outputs": [],
   "source": [
    "dump_stats(filter_stats(stats, popular))"
   ]
  },
  {
   "cell_type": "code",
   "execution_count": null,
   "metadata": {
    "collapsed": true
   },
   "outputs": [],
   "source": []
  }
 ],
 "metadata": {
  "kernelspec": {
   "display_name": "Python 2",
   "language": "python",
   "name": "python2"
  },
  "language_info": {
   "codemirror_mode": {
    "name": "ipython",
    "version": 2
   },
   "file_extension": ".py",
   "mimetype": "text/x-python",
   "name": "python",
   "nbconvert_exporter": "python",
   "pygments_lexer": "ipython2",
   "version": "2.7.6"
  }
 },
 "nbformat": 4,
 "nbformat_minor": 0
}
