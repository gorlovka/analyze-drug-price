{
 "cells": [
  {
   "cell_type": "code",
   "execution_count": 4,
   "metadata": {
    "collapsed": false
   },
   "outputs": [],
   "source": [
    "%run -n main.py\n",
    "%matplotlib inline"
   ]
  },
  {
   "cell_type": "code",
   "execution_count": 5,
   "metadata": {
    "collapsed": false
   },
   "outputs": [],
   "source": [
    "data = read_xls_data()"
   ]
  },
  {
   "cell_type": "code",
   "execution_count": 6,
   "metadata": {
    "collapsed": false
   },
   "outputs": [
    {
     "data": {
      "text/html": [
       "<div>\n",
       "<table border=\"1\" class=\"dataframe\">\n",
       "  <thead>\n",
       "    <tr style=\"text-align: right;\">\n",
       "      <th></th>\n",
       "      <th>name</th>\n",
       "      <th>title</th>\n",
       "      <th>dosage</th>\n",
       "      <th>firm</th>\n",
       "      <th>amount</th>\n",
       "      <th>price</th>\n",
       "      <th>price2</th>\n",
       "      <th>id</th>\n",
       "      <th>code2</th>\n",
       "      <th>date</th>\n",
       "      <th>code1</th>\n",
       "    </tr>\n",
       "  </thead>\n",
       "  <tbody>\n",
       "    <tr>\n",
       "      <th>0</th>\n",
       "      <td>None</td>\n",
       "      <td>Кагоцел</td>\n",
       "      <td>таблетки 12 мг, 10 шт. - упаковки ячейковые ко...</td>\n",
       "      <td>ООО \"НИАРМЕДИК ПЛЮС\" - Россия</td>\n",
       "      <td>10</td>\n",
       "      <td>164.98</td>\n",
       "      <td>NaN</td>\n",
       "      <td>Р N002027/01</td>\n",
       "      <td>4.605340e+12</td>\n",
       "      <td>2015-10-07</td>\n",
       "      <td>1808-Пр/10</td>\n",
       "    </tr>\n",
       "    <tr>\n",
       "      <th>1</th>\n",
       "      <td>None</td>\n",
       "      <td>Пирфотех 99mТc</td>\n",
       "      <td>лиофилизат для приготовления раствора для внут...</td>\n",
       "      <td>ООО \"Диамед\" - Россия</td>\n",
       "      <td>5</td>\n",
       "      <td>1435.32</td>\n",
       "      <td>NaN</td>\n",
       "      <td>Р N000494/01</td>\n",
       "      <td>4.606223e+12</td>\n",
       "      <td>2015-10-07</td>\n",
       "      <td>1620-Пр/10</td>\n",
       "    </tr>\n",
       "    <tr>\n",
       "      <th>2</th>\n",
       "      <td>None</td>\n",
       "      <td>Технефит 99mTc</td>\n",
       "      <td>лиофилизат для приготовления раствора для внут...</td>\n",
       "      <td>ООО \"Диамед\" - Россия</td>\n",
       "      <td>5</td>\n",
       "      <td>1617.84</td>\n",
       "      <td>NaN</td>\n",
       "      <td>ЛС-002365</td>\n",
       "      <td>4.606223e+12</td>\n",
       "      <td>2015-10-07</td>\n",
       "      <td>1620-Пр/10</td>\n",
       "    </tr>\n",
       "    <tr>\n",
       "      <th>3</th>\n",
       "      <td>None</td>\n",
       "      <td>Технефор 99mTc</td>\n",
       "      <td>лиофилизат для приготовления раствора для внут...</td>\n",
       "      <td>ООО \"Диамед\" - Россия</td>\n",
       "      <td>5</td>\n",
       "      <td>1662.12</td>\n",
       "      <td>NaN</td>\n",
       "      <td>ЛС-002366</td>\n",
       "      <td>4.606223e+12</td>\n",
       "      <td>2015-10-07</td>\n",
       "      <td>1620-Пр/10</td>\n",
       "    </tr>\n",
       "    <tr>\n",
       "      <th>4</th>\n",
       "      <td>Абакавир</td>\n",
       "      <td>Зиаген</td>\n",
       "      <td>раствор для приема внутрь 20 мг/мл, 240 мл - ф...</td>\n",
       "      <td>ГлаксоСмитКляйн Инк - Канада</td>\n",
       "      <td>1</td>\n",
       "      <td>2440.97</td>\n",
       "      <td>NaN</td>\n",
       "      <td>П N011612/02</td>\n",
       "      <td>4.607008e+12</td>\n",
       "      <td>2015-10-07</td>\n",
       "      <td>5344-Пр/10</td>\n",
       "    </tr>\n",
       "  </tbody>\n",
       "</table>\n",
       "</div>"
      ],
      "text/plain": [
       "       name           title  \\\n",
       "0      None         Кагоцел   \n",
       "1      None  Пирфотех 99mТc   \n",
       "2      None  Технефит 99mTc   \n",
       "3      None  Технефор 99mTc   \n",
       "4  Абакавир          Зиаген   \n",
       "\n",
       "                                              dosage  \\\n",
       "0  таблетки 12 мг, 10 шт. - упаковки ячейковые ко...   \n",
       "1  лиофилизат для приготовления раствора для внут...   \n",
       "2  лиофилизат для приготовления раствора для внут...   \n",
       "3  лиофилизат для приготовления раствора для внут...   \n",
       "4  раствор для приема внутрь 20 мг/мл, 240 мл - ф...   \n",
       "\n",
       "                            firm  amount    price price2            id  \\\n",
       "0  ООО \"НИАРМЕДИК ПЛЮС\" - Россия      10   164.98    NaN  Р N002027/01   \n",
       "1          ООО \"Диамед\" - Россия       5  1435.32    NaN  Р N000494/01   \n",
       "2          ООО \"Диамед\" - Россия       5  1617.84    NaN     ЛС-002365   \n",
       "3          ООО \"Диамед\" - Россия       5  1662.12    NaN     ЛС-002366   \n",
       "4   ГлаксоСмитКляйн Инк - Канада       1  2440.97    NaN  П N011612/02   \n",
       "\n",
       "          code2       date       code1  \n",
       "0  4.605340e+12 2015-10-07  1808-Пр/10  \n",
       "1  4.606223e+12 2015-10-07  1620-Пр/10  \n",
       "2  4.606223e+12 2015-10-07  1620-Пр/10  \n",
       "3  4.606223e+12 2015-10-07  1620-Пр/10  \n",
       "4  4.607008e+12 2015-10-07  5344-Пр/10  "
      ]
     },
     "execution_count": 6,
     "metadata": {},
     "output_type": "execute_result"
    }
   ],
   "source": [
    "data.head()"
   ]
  },
  {
   "cell_type": "code",
   "execution_count": 7,
   "metadata": {
    "collapsed": false
   },
   "outputs": [],
   "source": [
    "max_prices = get_max_prices(data)"
   ]
  },
  {
   "cell_type": "code",
   "execution_count": 8,
   "metadata": {
    "collapsed": false
   },
   "outputs": [],
   "source": [
    "serps = load_serps()"
   ]
  },
  {
   "cell_type": "code",
   "execution_count": 9,
   "metadata": {
    "collapsed": false
   },
   "outputs": [],
   "source": [
    "not_found, no_forms, join = join_forms(serps, max_prices)"
   ]
  },
  {
   "cell_type": "markdown",
   "metadata": {},
   "source": [
    "Было скачано 3181 из 3156 (что-то со времен удаляется из таблички). ~200 не нашлось, ~800 не имеют дозы, предполагаем, что для них нет цен. ~2100 лекаств в суммы имеют ~4000 дозировок. Не для всех дозировок удалось найти максимальные цены. Примерно 25% не нашлось. Из 20 000 строчек из исходной таблицы в объединении участвуют ~8000, не знаю, плохо это или нет. Возможно в исходной таблицы много мелкого всего."
   ]
  },
  {
   "cell_type": "code",
   "execution_count": 10,
   "metadata": {
    "collapsed": false,
    "scrolled": true
   },
   "outputs": [
    {
     "name": "stdout",
     "output_type": "stream",
     "text": [
      "Total: 3181\n",
      "Not found: 179\n",
      "No forms: 822\n",
      "In join: 2180\n",
      "\n",
      "Forms: 3999\n",
      "Matches: 2872\n",
      "Data coverage: 8198\n"
     ]
    }
   ],
   "source": [
    "no_matches = join_stats(serps, max_prices, not_found, no_forms, join)"
   ]
  },
  {
   "cell_type": "markdown",
   "metadata": {},
   "source": [
    "Посмотрим что из себя представляют эти 25%. Видно, что часть действительно не получится объединить. А часть нужно кропотливо отлаживать"
   ]
  },
  {
   "cell_type": "code",
   "execution_count": 324,
   "metadata": {
    "collapsed": false,
    "scrolled": false
   },
   "outputs": [],
   "source": [
    "# show_no_matches(no_matches)"
   ]
  },
  {
   "cell_type": "markdown",
   "metadata": {},
   "source": [
    "Проверим вручную что попадает в объединение. Формально всё вроде бы норм. Действительно ли 100мг/20мл равно 5мг/мл? Внутри встречается сильный разброс в максимальных ценах. Нужно будет это отображать"
   ]
  },
  {
   "cell_type": "code",
   "execution_count": 131,
   "metadata": {
    "collapsed": false,
    "scrolled": false
   },
   "outputs": [],
   "source": [
    "# show_join(join)"
   ]
  },
  {
   "cell_type": "code",
   "execution_count": 11,
   "metadata": {
    "collapsed": false
   },
   "outputs": [],
   "source": [
    "prices = load_prices()"
   ]
  },
  {
   "cell_type": "code",
   "execution_count": 12,
   "metadata": {
    "collapsed": false
   },
   "outputs": [],
   "source": [
    "stats = join_prices(join, prices)"
   ]
  },
  {
   "cell_type": "markdown",
   "metadata": {},
   "source": [
    "Всего ~4000 дозировки как и раньше. 75% имеют известные максимальные цены. Совсем для немногих не удалось найти цены совсем. Для примерно 15% объединилась только часть цен."
   ]
  },
  {
   "cell_type": "code",
   "execution_count": 13,
   "metadata": {
    "collapsed": false
   },
   "outputs": [
    {
     "name": "stdout",
     "output_type": "stream",
     "text": [
      "Titles: 2180\n",
      "Forms: 3999\n",
      "Joined forms: 2872\n",
      "Clean join: 2376\n",
      "No join 42\n",
      "Partial join 441\n"
     ]
    }
   ],
   "source": [
    "no_join, partial_join = stats_stats(stats)"
   ]
  },
  {
   "cell_type": "markdown",
   "metadata": {},
   "source": [
    "Среди совсем необъединившихся есть корректные. Правда иногда нет максимальной цены с данным amount. Иногда у максимальной цены amount none, тоже забиваем"
   ]
  },
  {
   "cell_type": "code",
   "execution_count": 13,
   "metadata": {
    "collapsed": false,
    "scrolled": false
   },
   "outputs": [],
   "source": [
    "# show_no_join(no_join)"
   ]
  },
  {
   "cell_type": "markdown",
   "metadata": {},
   "source": [
    "Среди частично объединённых тоже есть корректные. Часто требует долгая крапотливая настройка."
   ]
  },
  {
   "cell_type": "code",
   "execution_count": 14,
   "metadata": {
    "collapsed": false,
    "scrolled": false
   },
   "outputs": [],
   "source": [
    "# show_partial_join(partial_join)"
   ]
  },
  {
   "cell_type": "markdown",
   "metadata": {},
   "source": [
    "Всё выглядит нормально. Похоже максимальные цены не максимальные. Нужно ещё добавить надбавки. Иногда бывается что у Спутника в одну дозировку попадают цены с другой."
   ]
  },
  {
   "cell_type": "code",
   "execution_count": 15,
   "metadata": {
    "collapsed": true
   },
   "outputs": [],
   "source": [
    "# show_stats(stats)"
   ]
  },
  {
   "cell_type": "code",
   "execution_count": 370,
   "metadata": {
    "collapsed": false
   },
   "outputs": [],
   "source": [
    "popular = get_titles_popularity(stats, top=100)"
   ]
  },
  {
   "cell_type": "code",
   "execution_count": 145,
   "metadata": {
    "collapsed": false,
    "scrolled": true
   },
   "outputs": [],
   "source": [
    "# shows_stats(filter_stats(stats, popular))"
   ]
  },
  {
   "cell_type": "code",
   "execution_count": 371,
   "metadata": {
    "collapsed": false
   },
   "outputs": [],
   "source": [
    "dump_stats(filter_stats(stats, popular))"
   ]
  },
  {
   "cell_type": "markdown",
   "metadata": {},
   "source": [
    "# Корректировка в пограничных зонах"
   ]
  },
  {
   "cell_type": "code",
   "execution_count": 21,
   "metadata": {
    "collapsed": false,
    "scrolled": true
   },
   "outputs": [
    {
     "name": "stdout",
     "output_type": "stream",
     "text": [
      "45.45: 75.9924, 45.46: 71.50858\n",
      "454.54: 714.99142, 454.55: 625.00625\n"
     ]
    },
    {
     "data": {
      "image/png": "[encoded data removed]",
      "text/plain": [
       "<matplotlib.figure.Figure at 0x115a67d90>"
      ]
     },
     "metadata": {},
     "output_type": "display_data"
    }
   ],
   "source": [
    "plot_steps()"
   ]
  },
  {
   "cell_type": "code",
   "execution_count": 22,
   "metadata": {
    "collapsed": false
   },
   "outputs": [
    {
     "name": "stdout",
     "output_type": "stream",
     "text": [
      "454.54: 714.99142, 454.55: 714.99142\n"
     ]
    },
    {
     "data": {
      "image/png": "[encoded data removed]",
      "text/plain": [
       "<matplotlib.figure.Figure at 0x10f35ef10>"
      ]
     },
     "metadata": {},
     "output_type": "display_data"
    }
   ],
   "source": [
    "plot_steps(smooth=True)"
   ]
  },
  {
   "cell_type": "code",
   "execution_count": 365,
   "metadata": {
    "collapsed": false
   },
   "outputs": [],
   "source": [
    "%run -n main.py\n",
    "dump_steps()"
   ]
  },
  {
   "cell_type": "markdown",
   "metadata": {
    "collapsed": true
   },
   "source": [
    "# Аптеки, которые превышают"
   ]
  },
  {
   "cell_type": "code",
   "execution_count": 25,
   "metadata": {
    "collapsed": true
   },
   "outputs": [],
   "source": [
    "%run -n main.py\n",
    "%matplotlib inline"
   ]
  },
  {
   "cell_type": "code",
   "execution_count": 26,
   "metadata": {
    "collapsed": false
   },
   "outputs": [],
   "source": [
    "locations, coordinates = get_locations()"
   ]
  },
  {
   "cell_type": "code",
   "execution_count": 14,
   "metadata": {
    "collapsed": false
   },
   "outputs": [],
   "source": [
    "excesses = get_excesses(stats, locations)"
   ]
  },
  {
   "cell_type": "code",
   "execution_count": 15,
   "metadata": {
    "collapsed": false
   },
   "outputs": [
    {
     "data": {
      "text/html": [
       "<div>\n",
       "<table border=\"1\" class=\"dataframe\">\n",
       "  <thead>\n",
       "    <tr style=\"text-align: right;\">\n",
       "      <th></th>\n",
       "      <th>form</th>\n",
       "      <th>amount</th>\n",
       "      <th>pharmacy</th>\n",
       "      <th>lat</th>\n",
       "      <th>lon</th>\n",
       "      <th>limit</th>\n",
       "      <th>price</th>\n",
       "    </tr>\n",
       "  </thead>\n",
       "  <tbody>\n",
       "    <tr>\n",
       "      <th>103790</th>\n",
       "      <td>Фосфоглив®, капс.</td>\n",
       "      <td>50</td>\n",
       "      <td>ООО \"АС\"Эвалар\"</td>\n",
       "      <td>55.7282</td>\n",
       "      <td>37.6118</td>\n",
       "      <td>629.97077</td>\n",
       "      <td>903.4</td>\n",
       "    </tr>\n",
       "    <tr>\n",
       "      <th>103794</th>\n",
       "      <td>Фосфоглив®, капс.</td>\n",
       "      <td>50</td>\n",
       "      <td>ООО \"АС\"Эвалар\"</td>\n",
       "      <td>55.7282</td>\n",
       "      <td>37.6118</td>\n",
       "      <td>629.97077</td>\n",
       "      <td>888.4</td>\n",
       "    </tr>\n",
       "    <tr>\n",
       "      <th>103823</th>\n",
       "      <td>Фосфоглив®, капс.</td>\n",
       "      <td>50</td>\n",
       "      <td>Формула Здоровья г.Москва Север</td>\n",
       "      <td>55.7846</td>\n",
       "      <td>37.6355</td>\n",
       "      <td>629.97077</td>\n",
       "      <td>841.0</td>\n",
       "    </tr>\n",
       "    <tr>\n",
       "      <th>103928</th>\n",
       "      <td>Фосфоглив®, капс.</td>\n",
       "      <td>50</td>\n",
       "      <td>Формула Здоровья-2</td>\n",
       "      <td>55.8039</td>\n",
       "      <td>37.7154</td>\n",
       "      <td>629.97077</td>\n",
       "      <td>892.8</td>\n",
       "    </tr>\n",
       "    <tr>\n",
       "      <th>104183</th>\n",
       "      <td>Фосфоглив®, капс.</td>\n",
       "      <td>50</td>\n",
       "      <td>ООО \"ПРОГРЕСС-ФАРМА\" 7</td>\n",
       "      <td>55.7556</td>\n",
       "      <td>37.8583</td>\n",
       "      <td>629.97077</td>\n",
       "      <td>869.2</td>\n",
       "    </tr>\n",
       "    <tr>\n",
       "      <th>104184</th>\n",
       "      <td>Фосфоглив®, капс.</td>\n",
       "      <td>50</td>\n",
       "      <td>Формула Здоровья-3</td>\n",
       "      <td>55.8225</td>\n",
       "      <td>37.8233</td>\n",
       "      <td>629.97077</td>\n",
       "      <td>889.0</td>\n",
       "    </tr>\n",
       "    <tr>\n",
       "      <th>104383</th>\n",
       "      <td>Фосфоглив®, капс.</td>\n",
       "      <td>50</td>\n",
       "      <td>Формула здоровья</td>\n",
       "      <td>55.7981</td>\n",
       "      <td>37.9864</td>\n",
       "      <td>629.97077</td>\n",
       "      <td>887.5</td>\n",
       "    </tr>\n",
       "  </tbody>\n",
       "</table>\n",
       "</div>"
      ],
      "text/plain": [
       "                     form  amount                         pharmacy      lat  \\\n",
       "103790  Фосфоглив®, капс.      50                  ООО \"АС\"Эвалар\"  55.7282   \n",
       "103794  Фосфоглив®, капс.      50                  ООО \"АС\"Эвалар\"  55.7282   \n",
       "103823  Фосфоглив®, капс.      50  Формула Здоровья г.Москва Север  55.7846   \n",
       "103928  Фосфоглив®, капс.      50               Формула Здоровья-2  55.8039   \n",
       "104183  Фосфоглив®, капс.      50           ООО \"ПРОГРЕСС-ФАРМА\" 7  55.7556   \n",
       "104184  Фосфоглив®, капс.      50               Формула Здоровья-3  55.8225   \n",
       "104383  Фосфоглив®, капс.      50                 Формула здоровья  55.7981   \n",
       "\n",
       "            lon      limit  price  \n",
       "103790  37.6118  629.97077  903.4  \n",
       "103794  37.6118  629.97077  888.4  \n",
       "103823  37.6355  629.97077  841.0  \n",
       "103928  37.7154  629.97077  892.8  \n",
       "104183  37.8583  629.97077  869.2  \n",
       "104184  37.8233  629.97077  889.0  \n",
       "104383  37.9864  629.97077  887.5  "
      ]
     },
     "execution_count": 15,
     "metadata": {},
     "output_type": "execute_result"
    }
   ],
   "source": [
    "excesses[(excesses.form == u'Фосфоглив®, капс.') & (excesses.price > excesses.limit)]"
   ]
  },
  {
   "cell_type": "code",
   "execution_count": 44,
   "metadata": {
    "collapsed": false
   },
   "outputs": [],
   "source": [
    "excesses['group'] = excesses.pharmacy.map(get_pharmacy_group)\n",
    "excesses['delta'] = excesses.price / excesses.limit - 1\n",
    "excesses['difference'] = excesses.price - excesses.limit"
   ]
  },
  {
   "cell_type": "code",
   "execution_count": 17,
   "metadata": {
    "collapsed": false
   },
   "outputs": [
    {
     "data": {
      "text/plain": [
       "<matplotlib.axes._subplots.AxesSubplot at 0x122d71590>"
      ]
     },
     "execution_count": 17,
     "metadata": {},
     "output_type": "execute_result"
    },
    {
     "data": {
      "image/png": "[encoded data removed]",
      "text/plain": [
       "<matplotlib.figure.Figure at 0x122d71910>"
      ]
     },
     "metadata": {},
     "output_type": "display_data"
    }
   ],
   "source": [
    "excesses.delta[(excesses.delta > 0) & (excesses.delta < 0.5)].plot(kind='hist')"
   ]
  },
  {
   "cell_type": "markdown",
   "metadata": {},
   "source": [
    "Будем работать с превышениями до 30%, их ~9000 из ~12500. На больших превышениях алгоритм чаще ошибается."
   ]
  },
  {
   "cell_type": "code",
   "execution_count": 18,
   "metadata": {
    "collapsed": false
   },
   "outputs": [
    {
     "name": "stdout",
     "output_type": "stream",
     "text": [
      "Total: 12462\n",
      "Not huge: 8455\n"
     ]
    }
   ],
   "source": [
    "print 'Total:', len(excesses[(excesses.delta > 0)])\n",
    "print 'Not huge:', len(excesses[(excesses.delta > 0) & (excesses.delta < 0.3)])"
   ]
  },
  {
   "cell_type": "markdown",
   "metadata": {},
   "source": [
    "Есть аптеки, в которых почти половина цен завишены."
   ]
  },
  {
   "cell_type": "code",
   "execution_count": 454,
   "metadata": {
    "collapsed": false
   },
   "outputs": [
    {
     "data": {
      "text/html": [
       "<div>\n",
       "<table border=\"1\" class=\"dataframe\">\n",
       "  <thead>\n",
       "    <tr style=\"text-align: right;\">\n",
       "      <th></th>\n",
       "      <th>excesses</th>\n",
       "      <th>total</th>\n",
       "      <th>share</th>\n",
       "      <th>error</th>\n",
       "      <th>bound</th>\n",
       "    </tr>\n",
       "    <tr>\n",
       "      <th>group</th>\n",
       "      <th></th>\n",
       "      <th></th>\n",
       "      <th></th>\n",
       "      <th></th>\n",
       "      <th></th>\n",
       "    </tr>\n",
       "  </thead>\n",
       "  <tbody>\n",
       "    <tr>\n",
       "      <th>ООО \"Фармацевтика и Технологии\"</th>\n",
       "      <td>81</td>\n",
       "      <td>190</td>\n",
       "      <td>0.426316</td>\n",
       "      <td>0.035878</td>\n",
       "      <td>0.390438</td>\n",
       "    </tr>\n",
       "    <tr>\n",
       "      <th>Pharmacorp Ltd</th>\n",
       "      <td>43</td>\n",
       "      <td>139</td>\n",
       "      <td>0.309353</td>\n",
       "      <td>0.039206</td>\n",
       "      <td>0.270147</td>\n",
       "    </tr>\n",
       "    <tr>\n",
       "      <th>Здравница Плюс</th>\n",
       "      <td>19</td>\n",
       "      <td>188</td>\n",
       "      <td>0.101064</td>\n",
       "      <td>0.021983</td>\n",
       "      <td>0.079081</td>\n",
       "    </tr>\n",
       "    <tr>\n",
       "      <th>ООО \"Здоровый стиль\"</th>\n",
       "      <td>31</td>\n",
       "      <td>383</td>\n",
       "      <td>0.080940</td>\n",
       "      <td>0.013937</td>\n",
       "      <td>0.067003</td>\n",
       "    </tr>\n",
       "    <tr>\n",
       "      <th>Фармакор</th>\n",
       "      <td>46</td>\n",
       "      <td>728</td>\n",
       "      <td>0.063187</td>\n",
       "      <td>0.009017</td>\n",
       "      <td>0.054170</td>\n",
       "    </tr>\n",
       "    <tr>\n",
       "      <th>ООО Жень-Шень</th>\n",
       "      <td>19</td>\n",
       "      <td>296</td>\n",
       "      <td>0.064189</td>\n",
       "      <td>0.014246</td>\n",
       "      <td>0.049944</td>\n",
       "    </tr>\n",
       "    <tr>\n",
       "      <th>ООО \"Первый Мед\", г.Красногорск 2 (\"Абсолют-Инвест\")</th>\n",
       "      <td>15</td>\n",
       "      <td>251</td>\n",
       "      <td>0.059761</td>\n",
       "      <td>0.014962</td>\n",
       "      <td>0.044799</td>\n",
       "    </tr>\n",
       "    <tr>\n",
       "      <th>Авиценна</th>\n",
       "      <td>125</td>\n",
       "      <td>2568</td>\n",
       "      <td>0.048676</td>\n",
       "      <td>0.004246</td>\n",
       "      <td>0.044430</td>\n",
       "    </tr>\n",
       "    <tr>\n",
       "      <th>ОАО Гомеопатическая аптека \"Ганнеман\"</th>\n",
       "      <td>5</td>\n",
       "      <td>69</td>\n",
       "      <td>0.072464</td>\n",
       "      <td>0.031211</td>\n",
       "      <td>0.041253</td>\n",
       "    </tr>\n",
       "    <tr>\n",
       "      <th>Сэсса Фарм</th>\n",
       "      <td>69</td>\n",
       "      <td>1543</td>\n",
       "      <td>0.044718</td>\n",
       "      <td>0.005262</td>\n",
       "      <td>0.039456</td>\n",
       "    </tr>\n",
       "    <tr>\n",
       "      <th>ЗАО Фирма Здоровье</th>\n",
       "      <td>28</td>\n",
       "      <td>621</td>\n",
       "      <td>0.045089</td>\n",
       "      <td>0.008327</td>\n",
       "      <td>0.036762</td>\n",
       "    </tr>\n",
       "    <tr>\n",
       "      <th>ООО \"Фармапарк\"</th>\n",
       "      <td>7</td>\n",
       "      <td>122</td>\n",
       "      <td>0.057377</td>\n",
       "      <td>0.021055</td>\n",
       "      <td>0.036322</td>\n",
       "    </tr>\n",
       "    <tr>\n",
       "      <th>ООО \"Эра Здоровья\"</th>\n",
       "      <td>14</td>\n",
       "      <td>286</td>\n",
       "      <td>0.048951</td>\n",
       "      <td>0.012758</td>\n",
       "      <td>0.036193</td>\n",
       "    </tr>\n",
       "    <tr>\n",
       "      <th>ООО \"Официна\"</th>\n",
       "      <td>13</td>\n",
       "      <td>269</td>\n",
       "      <td>0.048327</td>\n",
       "      <td>0.013076</td>\n",
       "      <td>0.035251</td>\n",
       "    </tr>\n",
       "    <tr>\n",
       "      <th>ООО \"Поляна\"</th>\n",
       "      <td>15</td>\n",
       "      <td>329</td>\n",
       "      <td>0.045593</td>\n",
       "      <td>0.011500</td>\n",
       "      <td>0.034092</td>\n",
       "    </tr>\n",
       "    <tr>\n",
       "      <th>ООО \"Полюс\"</th>\n",
       "      <td>15</td>\n",
       "      <td>348</td>\n",
       "      <td>0.043103</td>\n",
       "      <td>0.010887</td>\n",
       "      <td>0.032217</td>\n",
       "    </tr>\n",
       "    <tr>\n",
       "      <th>Целитель г.Москва</th>\n",
       "      <td>13</td>\n",
       "      <td>307</td>\n",
       "      <td>0.042345</td>\n",
       "      <td>0.011493</td>\n",
       "      <td>0.030852</td>\n",
       "    </tr>\n",
       "    <tr>\n",
       "      <th>ООО «ТОРГМЕТ»</th>\n",
       "      <td>26</td>\n",
       "      <td>697</td>\n",
       "      <td>0.037303</td>\n",
       "      <td>0.007178</td>\n",
       "      <td>0.030125</td>\n",
       "    </tr>\n",
       "    <tr>\n",
       "      <th>Вивафарм ООО</th>\n",
       "      <td>23</td>\n",
       "      <td>628</td>\n",
       "      <td>0.036624</td>\n",
       "      <td>0.007496</td>\n",
       "      <td>0.029129</td>\n",
       "    </tr>\n",
       "    <tr>\n",
       "      <th>ООО \"ЗАБОТА\"</th>\n",
       "      <td>10</td>\n",
       "      <td>239</td>\n",
       "      <td>0.041841</td>\n",
       "      <td>0.012952</td>\n",
       "      <td>0.028889</td>\n",
       "    </tr>\n",
       "    <tr>\n",
       "      <th>ООО \"МЕДЦЕНТР-МОСИНТУР ЛТД\"</th>\n",
       "      <td>16</td>\n",
       "      <td>419</td>\n",
       "      <td>0.038186</td>\n",
       "      <td>0.009362</td>\n",
       "      <td>0.028824</td>\n",
       "    </tr>\n",
       "    <tr>\n",
       "      <th>ООО \"Фарм Крафт\"5</th>\n",
       "      <td>8</td>\n",
       "      <td>183</td>\n",
       "      <td>0.043716</td>\n",
       "      <td>0.015114</td>\n",
       "      <td>0.028602</td>\n",
       "    </tr>\n",
       "    <tr>\n",
       "      <th>ООО \"Целитель+\"</th>\n",
       "      <td>13</td>\n",
       "      <td>332</td>\n",
       "      <td>0.039157</td>\n",
       "      <td>0.010645</td>\n",
       "      <td>0.028511</td>\n",
       "    </tr>\n",
       "    <tr>\n",
       "      <th>ООО \"Лотос\"</th>\n",
       "      <td>21</td>\n",
       "      <td>582</td>\n",
       "      <td>0.036082</td>\n",
       "      <td>0.007730</td>\n",
       "      <td>0.028352</td>\n",
       "    </tr>\n",
       "    <tr>\n",
       "      <th>ООО \"Пастэр\"</th>\n",
       "      <td>12</td>\n",
       "      <td>309</td>\n",
       "      <td>0.038835</td>\n",
       "      <td>0.010991</td>\n",
       "      <td>0.027844</td>\n",
       "    </tr>\n",
       "    <tr>\n",
       "      <th>ООО \"СИТИ\"</th>\n",
       "      <td>14</td>\n",
       "      <td>371</td>\n",
       "      <td>0.037736</td>\n",
       "      <td>0.009893</td>\n",
       "      <td>0.027843</td>\n",
       "    </tr>\n",
       "    <tr>\n",
       "      <th>ООО \"Трэйси Плюс\"</th>\n",
       "      <td>15</td>\n",
       "      <td>424</td>\n",
       "      <td>0.035377</td>\n",
       "      <td>0.008971</td>\n",
       "      <td>0.026406</td>\n",
       "    </tr>\n",
       "    <tr>\n",
       "      <th>ООО \" ЭЛЬРУФ\"</th>\n",
       "      <td>7</td>\n",
       "      <td>168</td>\n",
       "      <td>0.041667</td>\n",
       "      <td>0.015417</td>\n",
       "      <td>0.026250</td>\n",
       "    </tr>\n",
       "    <tr>\n",
       "      <th>Самсон-Фарма</th>\n",
       "      <td>246</td>\n",
       "      <td>8835</td>\n",
       "      <td>0.027844</td>\n",
       "      <td>0.001750</td>\n",
       "      <td>0.026093</td>\n",
       "    </tr>\n",
       "    <tr>\n",
       "      <th>ООО \"ОПТИФАРМ\"</th>\n",
       "      <td>32</td>\n",
       "      <td>1026</td>\n",
       "      <td>0.031189</td>\n",
       "      <td>0.005427</td>\n",
       "      <td>0.025762</td>\n",
       "    </tr>\n",
       "  </tbody>\n",
       "</table>\n",
       "</div>"
      ],
      "text/plain": [
       "                                                    excesses  total     share  \\\n",
       "group                                                                           \n",
       "ООО \"Фармацевтика и Технологии\"                           81    190  0.426316   \n",
       "Pharmacorp Ltd                                            43    139  0.309353   \n",
       "Здравница Плюс                                            19    188  0.101064   \n",
       "ООО \"Здоровый стиль\"                                      31    383  0.080940   \n",
       "Фармакор                                                  46    728  0.063187   \n",
       "ООО Жень-Шень                                             19    296  0.064189   \n",
       "ООО \"Первый Мед\", г.Красногорск 2 (\"Абсолют-Инв...        15    251  0.059761   \n",
       "Авиценна                                                 125   2568  0.048676   \n",
       "ОАО Гомеопатическая аптека \"Ганнеман\"                      5     69  0.072464   \n",
       "Сэсса Фарм                                                69   1543  0.044718   \n",
       "ЗАО Фирма Здоровье                                        28    621  0.045089   \n",
       "ООО \"Фармапарк\"                                            7    122  0.057377   \n",
       "ООО \"Эра Здоровья\"                                        14    286  0.048951   \n",
       "ООО \"Официна\"                                             13    269  0.048327   \n",
       "ООО \"Поляна\"                                              15    329  0.045593   \n",
       "ООО \"Полюс\"                                               15    348  0.043103   \n",
       "Целитель г.Москва                                         13    307  0.042345   \n",
       "ООО «ТОРГМЕТ»                                             26    697  0.037303   \n",
       "Вивафарм ООО                                              23    628  0.036624   \n",
       "ООО \"ЗАБОТА\"                                              10    239  0.041841   \n",
       "ООО \"МЕДЦЕНТР-МОСИНТУР ЛТД\"                               16    419  0.038186   \n",
       "ООО \"Фарм Крафт\"5                                          8    183  0.043716   \n",
       "ООО \"Целитель+\"                                           13    332  0.039157   \n",
       "ООО \"Лотос\"                                               21    582  0.036082   \n",
       "ООО \"Пастэр\"                                              12    309  0.038835   \n",
       "ООО \"СИТИ\"                                                14    371  0.037736   \n",
       "ООО \"Трэйси Плюс\"                                         15    424  0.035377   \n",
       "ООО \" ЭЛЬРУФ\"                                              7    168  0.041667   \n",
       "Самсон-Фарма                                             246   8835  0.027844   \n",
       "ООО \"ОПТИФАРМ\"                                            32   1026  0.031189   \n",
       "\n",
       "                                                       error     bound  \n",
       "group                                                                   \n",
       "ООО \"Фармацевтика и Технологии\"                     0.035878  0.390438  \n",
       "Pharmacorp Ltd                                      0.039206  0.270147  \n",
       "Здравница Плюс                                      0.021983  0.079081  \n",
       "ООО \"Здоровый стиль\"                                0.013937  0.067003  \n",
       "Фармакор                                            0.009017  0.054170  \n",
       "ООО Жень-Шень                                       0.014246  0.049944  \n",
       "ООО \"Первый Мед\", г.Красногорск 2 (\"Абсолют-Инв...  0.014962  0.044799  \n",
       "Авиценна                                            0.004246  0.044430  \n",
       "ОАО Гомеопатическая аптека \"Ганнеман\"               0.031211  0.041253  \n",
       "Сэсса Фарм                                          0.005262  0.039456  \n",
       "ЗАО Фирма Здоровье                                  0.008327  0.036762  \n",
       "ООО \"Фармапарк\"                                     0.021055  0.036322  \n",
       "ООО \"Эра Здоровья\"                                  0.012758  0.036193  \n",
       "ООО \"Официна\"                                       0.013076  0.035251  \n",
       "ООО \"Поляна\"                                        0.011500  0.034092  \n",
       "ООО \"Полюс\"                                         0.010887  0.032217  \n",
       "Целитель г.Москва                                   0.011493  0.030852  \n",
       "ООО «ТОРГМЕТ»                                       0.007178  0.030125  \n",
       "Вивафарм ООО                                        0.007496  0.029129  \n",
       "ООО \"ЗАБОТА\"                                        0.012952  0.028889  \n",
       "ООО \"МЕДЦЕНТР-МОСИНТУР ЛТД\"                         0.009362  0.028824  \n",
       "ООО \"Фарм Крафт\"5                                   0.015114  0.028602  \n",
       "ООО \"Целитель+\"                                     0.010645  0.028511  \n",
       "ООО \"Лотос\"                                         0.007730  0.028352  \n",
       "ООО \"Пастэр\"                                        0.010991  0.027844  \n",
       "ООО \"СИТИ\"                                          0.009893  0.027843  \n",
       "ООО \"Трэйси Плюс\"                                   0.008971  0.026406  \n",
       "ООО \" ЭЛЬРУФ\"                                       0.015417  0.026250  \n",
       "Самсон-Фарма                                        0.001750  0.026093  \n",
       "ООО \"ОПТИФАРМ\"                                      0.005427  0.025762  "
      ]
     },
     "execution_count": 454,
     "metadata": {},
     "output_type": "execute_result"
    }
   ],
   "source": [
    "table = pd.DataFrame()\n",
    "table['excesses'] = excesses[(excesses.delta > 0) & (excesses.delta < 0.3)].groupby('group').size()\n",
    "table['total'] = excesses.groupby('group').size()\n",
    "table['share'] = table.excesses / table.total\n",
    "table['error'] = np.sqrt(table.share * (1 - table.share) / table.total)\n",
    "table['bound'] = table.share - table.error\n",
    "table.sort('bound', inplace=False, ascending=False).head(30)"
   ]
  },
  {
   "cell_type": "markdown",
   "metadata": {},
   "source": [
    "Попробуем учесть завышения. \"Pharmacorp Ltd\" и \"Фармацевтика и Технологии\" всё равно в топе. На них точно надо посмотреть внимательно. Дольше большая ступенька и порядок сильно отличается."
   ]
  },
  {
   "cell_type": "code",
   "execution_count": 456,
   "metadata": {
    "collapsed": false
   },
   "outputs": [
    {
     "data": {
      "text/html": [
       "<div>\n",
       "<table border=\"1\" class=\"dataframe\">\n",
       "  <thead>\n",
       "    <tr style=\"text-align: right;\">\n",
       "      <th></th>\n",
       "      <th>excesses</th>\n",
       "      <th>total</th>\n",
       "      <th>share</th>\n",
       "      <th>error</th>\n",
       "      <th>bound</th>\n",
       "    </tr>\n",
       "    <tr>\n",
       "      <th>group</th>\n",
       "      <th></th>\n",
       "      <th></th>\n",
       "      <th></th>\n",
       "      <th></th>\n",
       "      <th></th>\n",
       "    </tr>\n",
       "  </thead>\n",
       "  <tbody>\n",
       "    <tr>\n",
       "      <th>Pharmacorp Ltd</th>\n",
       "      <td>6.091023</td>\n",
       "      <td>139</td>\n",
       "      <td>0.043820</td>\n",
       "      <td>0.017362</td>\n",
       "      <td>0.026458</td>\n",
       "    </tr>\n",
       "    <tr>\n",
       "      <th>ООО \"Фармацевтика и Технологии\"</th>\n",
       "      <td>6.767279</td>\n",
       "      <td>190</td>\n",
       "      <td>0.035617</td>\n",
       "      <td>0.013446</td>\n",
       "      <td>0.022172</td>\n",
       "    </tr>\n",
       "    <tr>\n",
       "      <th>Вивафарм ООО</th>\n",
       "      <td>3.519033</td>\n",
       "      <td>628</td>\n",
       "      <td>0.005604</td>\n",
       "      <td>0.002979</td>\n",
       "      <td>0.002625</td>\n",
       "    </tr>\n",
       "    <tr>\n",
       "      <th>Сэсса Фарм</th>\n",
       "      <td>6.300102</td>\n",
       "      <td>1543</td>\n",
       "      <td>0.004083</td>\n",
       "      <td>0.001623</td>\n",
       "      <td>0.002460</td>\n",
       "    </tr>\n",
       "    <tr>\n",
       "      <th>Авиценна</th>\n",
       "      <td>9.238015</td>\n",
       "      <td>2568</td>\n",
       "      <td>0.003597</td>\n",
       "      <td>0.001181</td>\n",
       "      <td>0.002416</td>\n",
       "    </tr>\n",
       "    <tr>\n",
       "      <th>ООО \"Здоровый стиль\"</th>\n",
       "      <td>2.498280</td>\n",
       "      <td>383</td>\n",
       "      <td>0.006523</td>\n",
       "      <td>0.004113</td>\n",
       "      <td>0.002410</td>\n",
       "    </tr>\n",
       "    <tr>\n",
       "      <th>ООО Жень-Шень</th>\n",
       "      <td>1.943170</td>\n",
       "      <td>296</td>\n",
       "      <td>0.006565</td>\n",
       "      <td>0.004694</td>\n",
       "      <td>0.001871</td>\n",
       "    </tr>\n",
       "    <tr>\n",
       "      <th>ПРОГРЕСС-ФАРМА</th>\n",
       "      <td>6.951282</td>\n",
       "      <td>2590</td>\n",
       "      <td>0.002684</td>\n",
       "      <td>0.001017</td>\n",
       "      <td>0.001667</td>\n",
       "    </tr>\n",
       "    <tr>\n",
       "      <th>Самсон-Фарма</th>\n",
       "      <td>18.623090</td>\n",
       "      <td>8835</td>\n",
       "      <td>0.002108</td>\n",
       "      <td>0.000488</td>\n",
       "      <td>0.001620</td>\n",
       "    </tr>\n",
       "    <tr>\n",
       "      <th>А5</th>\n",
       "      <td>296.902179</td>\n",
       "      <td>180312</td>\n",
       "      <td>0.001647</td>\n",
       "      <td>0.000095</td>\n",
       "      <td>0.001551</td>\n",
       "    </tr>\n",
       "    <tr>\n",
       "      <th>ООО \"Эра Здоровья\"</th>\n",
       "      <td>1.766396</td>\n",
       "      <td>286</td>\n",
       "      <td>0.006176</td>\n",
       "      <td>0.004633</td>\n",
       "      <td>0.001544</td>\n",
       "    </tr>\n",
       "    <tr>\n",
       "      <th>Ригла</th>\n",
       "      <td>54.902935</td>\n",
       "      <td>37732</td>\n",
       "      <td>0.001455</td>\n",
       "      <td>0.000196</td>\n",
       "      <td>0.001259</td>\n",
       "    </tr>\n",
       "    <tr>\n",
       "      <th>ООО \"Поляна\"</th>\n",
       "      <td>1.722910</td>\n",
       "      <td>329</td>\n",
       "      <td>0.005237</td>\n",
       "      <td>0.003979</td>\n",
       "      <td>0.001258</td>\n",
       "    </tr>\n",
       "    <tr>\n",
       "      <th>ГорФарма</th>\n",
       "      <td>3.912015</td>\n",
       "      <td>1575</td>\n",
       "      <td>0.002484</td>\n",
       "      <td>0.001254</td>\n",
       "      <td>0.001230</td>\n",
       "    </tr>\n",
       "    <tr>\n",
       "      <th>ООО \"ИНТЕКО\"</th>\n",
       "      <td>1.736915</td>\n",
       "      <td>364</td>\n",
       "      <td>0.004772</td>\n",
       "      <td>0.003612</td>\n",
       "      <td>0.001160</td>\n",
       "    </tr>\n",
       "    <tr>\n",
       "      <th>ООО \"ОМЕГА ФАРМ\"</th>\n",
       "      <td>6.447785</td>\n",
       "      <td>3450</td>\n",
       "      <td>0.001869</td>\n",
       "      <td>0.000735</td>\n",
       "      <td>0.001134</td>\n",
       "    </tr>\n",
       "    <tr>\n",
       "      <th>Маяк</th>\n",
       "      <td>5.258706</td>\n",
       "      <td>2780</td>\n",
       "      <td>0.001892</td>\n",
       "      <td>0.000824</td>\n",
       "      <td>0.001068</td>\n",
       "    </tr>\n",
       "    <tr>\n",
       "      <th>ООО \"Лотос\"</th>\n",
       "      <td>1.995417</td>\n",
       "      <td>582</td>\n",
       "      <td>0.003429</td>\n",
       "      <td>0.002423</td>\n",
       "      <td>0.001006</td>\n",
       "    </tr>\n",
       "    <tr>\n",
       "      <th>Аптечная сеть Оз</th>\n",
       "      <td>13.058429</td>\n",
       "      <td>9659</td>\n",
       "      <td>0.001352</td>\n",
       "      <td>0.000374</td>\n",
       "      <td>0.000978</td>\n",
       "    </tr>\n",
       "    <tr>\n",
       "      <th>Формула Здоровья</th>\n",
       "      <td>8.961042</td>\n",
       "      <td>6347</td>\n",
       "      <td>0.001412</td>\n",
       "      <td>0.000471</td>\n",
       "      <td>0.000941</td>\n",
       "    </tr>\n",
       "    <tr>\n",
       "      <th>ООО \"ОПТИФАРМ\"</th>\n",
       "      <td>2.533832</td>\n",
       "      <td>1026</td>\n",
       "      <td>0.002470</td>\n",
       "      <td>0.001550</td>\n",
       "      <td>0.000920</td>\n",
       "    </tr>\n",
       "    <tr>\n",
       "      <th>ООО \"НатурРецепт\"</th>\n",
       "      <td>1.704941</td>\n",
       "      <td>452</td>\n",
       "      <td>0.003772</td>\n",
       "      <td>0.002883</td>\n",
       "      <td>0.000889</td>\n",
       "    </tr>\n",
       "    <tr>\n",
       "      <th>Фармастар</th>\n",
       "      <td>6.120890</td>\n",
       "      <td>4521</td>\n",
       "      <td>0.001354</td>\n",
       "      <td>0.000547</td>\n",
       "      <td>0.000807</td>\n",
       "    </tr>\n",
       "    <tr>\n",
       "      <th>ООО «ТОРГМЕТ»</th>\n",
       "      <td>1.948618</td>\n",
       "      <td>697</td>\n",
       "      <td>0.002796</td>\n",
       "      <td>0.002000</td>\n",
       "      <td>0.000796</td>\n",
       "    </tr>\n",
       "    <tr>\n",
       "      <th>ОАО \"ТС \"АПТЕЧКА\"</th>\n",
       "      <td>2.270657</td>\n",
       "      <td>1027</td>\n",
       "      <td>0.002211</td>\n",
       "      <td>0.001466</td>\n",
       "      <td>0.000745</td>\n",
       "    </tr>\n",
       "    <tr>\n",
       "      <th>ИФК</th>\n",
       "      <td>10.261876</td>\n",
       "      <td>9749</td>\n",
       "      <td>0.001053</td>\n",
       "      <td>0.000328</td>\n",
       "      <td>0.000724</td>\n",
       "    </tr>\n",
       "    <tr>\n",
       "      <th>Целитель г.Москва</th>\n",
       "      <td>1.401877</td>\n",
       "      <td>307</td>\n",
       "      <td>0.004566</td>\n",
       "      <td>0.003848</td>\n",
       "      <td>0.000718</td>\n",
       "    </tr>\n",
       "    <tr>\n",
       "      <th>МИЦАР</th>\n",
       "      <td>12.232033</td>\n",
       "      <td>12422</td>\n",
       "      <td>0.000985</td>\n",
       "      <td>0.000281</td>\n",
       "      <td>0.000703</td>\n",
       "    </tr>\n",
       "    <tr>\n",
       "      <th>Фарматун</th>\n",
       "      <td>4.240503</td>\n",
       "      <td>3216</td>\n",
       "      <td>0.001319</td>\n",
       "      <td>0.000640</td>\n",
       "      <td>0.000679</td>\n",
       "    </tr>\n",
       "    <tr>\n",
       "      <th>С-ФАРМ</th>\n",
       "      <td>2.623137</td>\n",
       "      <td>1508</td>\n",
       "      <td>0.001739</td>\n",
       "      <td>0.001073</td>\n",
       "      <td>0.000666</td>\n",
       "    </tr>\n",
       "  </tbody>\n",
       "</table>\n",
       "</div>"
      ],
      "text/plain": [
       "                                   excesses   total     share     error  \\\n",
       "group                                                                     \n",
       "Pharmacorp Ltd                     6.091023     139  0.043820  0.017362   \n",
       "ООО \"Фармацевтика и Технологии\"    6.767279     190  0.035617  0.013446   \n",
       "Вивафарм ООО                       3.519033     628  0.005604  0.002979   \n",
       "Сэсса Фарм                         6.300102    1543  0.004083  0.001623   \n",
       "Авиценна                           9.238015    2568  0.003597  0.001181   \n",
       "ООО \"Здоровый стиль\"               2.498280     383  0.006523  0.004113   \n",
       "ООО Жень-Шень                      1.943170     296  0.006565  0.004694   \n",
       "ПРОГРЕСС-ФАРМА                     6.951282    2590  0.002684  0.001017   \n",
       "Самсон-Фарма                      18.623090    8835  0.002108  0.000488   \n",
       "А5                               296.902179  180312  0.001647  0.000095   \n",
       "ООО \"Эра Здоровья\"                 1.766396     286  0.006176  0.004633   \n",
       "Ригла                             54.902935   37732  0.001455  0.000196   \n",
       "ООО \"Поляна\"                       1.722910     329  0.005237  0.003979   \n",
       "ГорФарма                           3.912015    1575  0.002484  0.001254   \n",
       "ООО \"ИНТЕКО\"                       1.736915     364  0.004772  0.003612   \n",
       "ООО \"ОМЕГА ФАРМ\"                   6.447785    3450  0.001869  0.000735   \n",
       "Маяк                               5.258706    2780  0.001892  0.000824   \n",
       "ООО \"Лотос\"                        1.995417     582  0.003429  0.002423   \n",
       "Аптечная сеть Оз                  13.058429    9659  0.001352  0.000374   \n",
       "Формула Здоровья                   8.961042    6347  0.001412  0.000471   \n",
       "ООО \"ОПТИФАРМ\"                     2.533832    1026  0.002470  0.001550   \n",
       "ООО \"НатурРецепт\"                  1.704941     452  0.003772  0.002883   \n",
       "Фармастар                          6.120890    4521  0.001354  0.000547   \n",
       "ООО «ТОРГМЕТ»                      1.948618     697  0.002796  0.002000   \n",
       "ОАО \"ТС \"АПТЕЧКА\"                  2.270657    1027  0.002211  0.001466   \n",
       "ИФК                               10.261876    9749  0.001053  0.000328   \n",
       "Целитель г.Москва                  1.401877     307  0.004566  0.003848   \n",
       "МИЦАР                             12.232033   12422  0.000985  0.000281   \n",
       "Фарматун                           4.240503    3216  0.001319  0.000640   \n",
       "С-ФАРМ                             2.623137    1508  0.001739  0.001073   \n",
       "\n",
       "                                    bound  \n",
       "group                                      \n",
       "Pharmacorp Ltd                   0.026458  \n",
       "ООО \"Фармацевтика и Технологии\"  0.022172  \n",
       "Вивафарм ООО                     0.002625  \n",
       "Сэсса Фарм                       0.002460  \n",
       "Авиценна                         0.002416  \n",
       "ООО \"Здоровый стиль\"             0.002410  \n",
       "ООО Жень-Шень                    0.001871  \n",
       "ПРОГРЕСС-ФАРМА                   0.001667  \n",
       "Самсон-Фарма                     0.001620  \n",
       "А5                               0.001551  \n",
       "ООО \"Эра Здоровья\"               0.001544  \n",
       "Ригла                            0.001259  \n",
       "ООО \"Поляна\"                     0.001258  \n",
       "ГорФарма                         0.001230  \n",
       "ООО \"ИНТЕКО\"                     0.001160  \n",
       "ООО \"ОМЕГА ФАРМ\"                 0.001134  \n",
       "Маяк                             0.001068  \n",
       "ООО \"Лотос\"                      0.001006  \n",
       "Аптечная сеть Оз                 0.000978  \n",
       "Формула Здоровья                 0.000941  \n",
       "ООО \"ОПТИФАРМ\"                   0.000920  \n",
       "ООО \"НатурРецепт\"                0.000889  \n",
       "Фармастар                        0.000807  \n",
       "ООО «ТОРГМЕТ»                    0.000796  \n",
       "ОАО \"ТС \"АПТЕЧКА\"                0.000745  \n",
       "ИФК                              0.000724  \n",
       "Целитель г.Москва                0.000718  \n",
       "МИЦАР                            0.000703  \n",
       "Фарматун                         0.000679  \n",
       "С-ФАРМ                           0.000666  "
      ]
     },
     "execution_count": 456,
     "metadata": {},
     "output_type": "execute_result"
    }
   ],
   "source": [
    "table = pd.DataFrame()\n",
    "table['excesses'] = excesses[(excesses.delta > 0) & (excesses.delta < 0.3)].groupby('group').delta.sum()\n",
    "table['total'] = excesses.groupby('group').size()\n",
    "table['share'] = table.excesses / table.total\n",
    "table['error'] = np.sqrt(table.share * (1 - table.share) / table.total)\n",
    "table['bound'] = table.share - table.error\n",
    "table.sort('bound', inplace=False, ascending=False).head(30)"
   ]
  },
  {
   "cell_type": "markdown",
   "metadata": {},
   "source": [
    "Хотя бы одно превышение есть у многих аптек. Нужно взвешивать"
   ]
  },
  {
   "cell_type": "code",
   "execution_count": 19,
   "metadata": {
    "collapsed": false
   },
   "outputs": [
    {
     "data": {
      "text/plain": [
       "<matplotlib.collections.PathCollection at 0x122dddad0>"
      ]
     },
     "execution_count": 19,
     "metadata": {},
     "output_type": "execute_result"
    },
    {
     "data": {
      "image/png": "[encoded data removed]",
      "text/plain": [
       "<matplotlib.figure.Figure at 0x122ddd090>"
      ]
     },
     "metadata": {},
     "output_type": "display_data"
    }
   ],
   "source": [
    "table = excesses[['pharmacy', 'lat', 'lon']].drop_duplicates()\n",
    "plt.scatter(table.lat, table.lon, c='b', s=1, linewidth=0)\n",
    "table = excesses[(excesses.delta > 0) & (excesses.delta < 0.3)][['pharmacy', 'lat', 'lon']].drop_duplicates()\n",
    "plt.scatter(table.lat, table.lon, c='r', s=1, linewidth=0)"
   ]
  },
  {
   "cell_type": "markdown",
   "metadata": {},
   "source": [
    "Нуу, может быть, в центре больше превышений. Но там аптек просто больше."
   ]
  },
  {
   "cell_type": "code",
   "execution_count": 20,
   "metadata": {
    "collapsed": false
   },
   "outputs": [
    {
     "data": {
      "text/plain": [
       "<matplotlib.collections.PathCollection at 0x122d87e50>"
      ]
     },
     "execution_count": 20,
     "metadata": {},
     "output_type": "execute_result"
    },
    {
     "data": {
      "image/png": "[encoded data removed]",
      "text/plain": [
       "<matplotlib.figure.Figure at 0x120bbee10>"
      ]
     },
     "metadata": {},
     "output_type": "display_data"
    }
   ],
   "source": [
    "table = excesses[['pharmacy', 'lat', 'lon']].drop_duplicates()\n",
    "plt.scatter(table.lat, table.lon, c='b', s=1, linewidth=0)\n",
    "table = excesses[(excesses.delta > 0) & (excesses.delta < 0.3)]\n",
    "table = table.groupby(['pharmacy', 'lat', 'lon']).delta.mean()\n",
    "table = table.reset_index()\n",
    "plt.scatter(table.lat, table.lon, c='r', alpha=0.5, s=table.delta * 50, linewidth=0)"
   ]
  },
  {
   "cell_type": "code",
   "execution_count": 45,
   "metadata": {
    "collapsed": false
   },
   "outputs": [],
   "source": [
    "%run -n main.py\n",
    "table = excesses[(excesses.delta > 0) & (excesses.delta < 0.3)]\n",
    "dump_excesses(table, locations, coordinates)"
   ]
  },
  {
   "cell_type": "code",
   "execution_count": null,
   "metadata": {
    "collapsed": true
   },
   "outputs": [],
   "source": []
  }
 ],
 "metadata": {
  "kernelspec": {
   "display_name": "Python 2",
   "language": "python",
   "name": "python2"
  },
  "language_info": {
   "codemirror_mode": {
    "name": "ipython",
    "version": 2
   },
   "file_extension": ".py",
   "mimetype": "text/x-python",
   "name": "python",
   "nbconvert_exporter": "python",
   "pygments_lexer": "ipython2",
   "version": "2.7.6"
  }
 },
 "nbformat": 4,
 "nbformat_minor": 0
}
